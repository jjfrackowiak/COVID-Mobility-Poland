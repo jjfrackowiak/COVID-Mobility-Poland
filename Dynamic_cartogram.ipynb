{
 "cells": [
  {
   "attachments": {},
   "cell_type": "markdown",
   "metadata": {},
   "source": [
    "#### Part 2.3 Dynamic cartogram with voivodships (mobility in the area of ​​commerce and recreation) - displayed in a browser window"
   ]
  },
  {
   "cell_type": "code",
   "execution_count": null,
   "metadata": {},
   "outputs": [],
   "source": [
    "# Import neccessary packages\n",
    "!pip install geojson\n",
    "import json\n",
    "import pandas\n",
    "import plotly.io as pio\n",
    "pio.renderers.default = 'browser'"
   ]
  },
  {
   "cell_type": "code",
   "execution_count": null,
   "metadata": {},
   "outputs": [],
   "source": [
    "# Re-import .csv files with mobility data\n",
    "files = os.path.join('data/*PL_Mobility.csv')\n",
    "files = glob.glob(files)\n",
    "df = pd.concat(map(pd.read_csv, files), ignore_index=True)\n",
    "df_en = df[['sub_region_1', 'iso_3166_2_code', 'date',\n",
    "       'retail_and_recreation_percent_change_from_baseline',\n",
    "       'grocery_and_pharmacy_percent_change_from_baseline',\n",
    "       'parks_percent_change_from_baseline',\n",
    "       'transit_stations_percent_change_from_baseline',\n",
    "       'workplaces_percent_change_from_baseline',\n",
    "       'residential_percent_change_from_baseline']]\n",
    "df_en = df_en[df_en['iso_3166_2_code'].notna()]\n",
    "\n",
    "# Import of a csv file with data on voivodship codes\n",
    "path = 'data/codes.csv'\n",
    "df_codes=pd.read_csv(path, sep = ';')\n",
    "df_final=pd.merge(df_en, df_codes, how=\"left\", left_on = \"iso_3166_2_code\", right_on = \"KOD_ISO\")"
   ]
  },
  {
   "cell_type": "code",
   "execution_count": null,
   "metadata": {},
   "outputs": [],
   "source": [
    "# matching ID\n",
    "poland_states = json.load(open(\"data/woj.geojson\", \"r\"))\n",
    "df_final.rename(columns = {\"ID\":\"id\"}, inplace = True)\n",
    "df_final.rename(columns = {\"Nazwa\":\"name\"}, inplace = True)\n",
    "\n",
    "state_id_map = {}\n",
    "for feature in poland_states[\"features\"]:\n",
    "    feature[\"id\"] = feature[\"properties\"][\"id\"]\n",
    "    print(feature[\"properties\"][\"id\"])\n",
    "    feature[\"properties\"][\"nazwa\"] = df_final[df_final[\"id\"]==feature[\"properties\"][\"id\"]][\"name\"].unique()[0]\n",
    "    print(feature[\"properties\"][\"nazwa\"])"
   ]
  },
  {
   "cell_type": "code",
   "execution_count": null,
   "metadata": {},
   "outputs": [],
   "source": [
    "# further data modifications, date format change\n",
    "formated_gdf = df_final.fillna(0).groupby(['date', 'id', 'name'])['retail_and_recreation_percent_change_from_baseline'].mean()\n",
    "formated_gdf = formated_gdf.reset_index()\n",
    "formated_gdf['date'] = pd.to_datetime(formated_gdf['date'])\n",
    "formated_gdf['date'] = formated_gdf['date'].dt.strftime('%m/%d/%Y')"
   ]
  },
  {
   "cell_type": "code",
   "execution_count": null,
   "metadata": {},
   "outputs": [],
   "source": [
    "# modification of the date to calculate the monthly average\n",
    "# group by month\n",
    "formated_gdf_copy = pd.DataFrame(formated_gdf)\n",
    "formated_gdf_copy = pd.merge(formated_gdf_copy,formated_gdf_copy['date'].str.split('/', expand=True),left_index=True, right_index=True)\n",
    "formated_gdf_copy.rename(columns = {0:\"month\", 1:\"day\",2:\"year\"}, inplace = True)\n",
    "formated_gdf_copy[\"date\"] = formated_gdf_copy[\"year\"] + \"/\" +formated_gdf_copy[\"month\"]\n",
    "formated_gdf_copy[\"name\"] = formated_gdf[\"name\"]\n",
    "formated_gdf_copy = formated_gdf_copy.groupby( ['date','id','name']).mean().reset_index()\n",
    "formated_gdf_copy.rename(columns = {0:\"month\", 1:\"day\",2:\"year\",\n",
    "                                    \"retail_and_recreation_percent_change_from_baseline\":\"Mobility: retail and recreation\"}, inplace = True)"
   ]
  },
  {
   "cell_type": "code",
   "execution_count": null,
   "metadata": {},
   "outputs": [],
   "source": [
    "# Dynamic cartogram: mobility in the areas of commerce and entertainment in the provinces\n",
    "# in the following months of the pandemic (opens in a separate window after a while)\n",
    "\n",
    "# Cartogram\n",
    "fig = px.choropleth(\n",
    "    formated_gdf_copy,\n",
    "    locations=\"id\",\n",
    "    geojson=poland_states,\n",
    "    color=\"Mobility: retail and recreation\",\n",
    "    hover_name=\"name\",\n",
    "    hover_data=[\"Mobility: retail and recreation\"],\n",
    "    animation_frame='date',\n",
    "    title=\"Mobility: retail and recreation\",\n",
    ")\n",
    "fig.update_geos(fitbounds=\"locations\", visible=False)\n",
    "\n",
    "#fig.show()\n",
    "#fig.write_html(\"cartogram.html\")"
   ]
  }
 ],
 "metadata": {
  "language_info": {
   "name": "python"
  },
  "orig_nbformat": 4
 },
 "nbformat": 4,
 "nbformat_minor": 2
}
